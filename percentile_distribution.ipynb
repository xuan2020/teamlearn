{
 "cells": [
  {
   "cell_type": "markdown",
   "metadata": {},
   "source": [
    "## Calculate Dotcom Order Ratio"
   ]
  },
  {
   "cell_type": "code",
   "execution_count": 1,
   "metadata": {},
   "outputs": [],
   "source": [
    "import numpy as np\n",
    "import pandas as pd\n",
    "import pyodbc\n",
    "conn = pyodbc.connect('DSN=teradata_odbc')"
   ]
  },
  {
   "cell_type": "code",
   "execution_count": 2,
   "metadata": {},
   "outputs": [
    {
     "data": {
      "text/html": [
       "<div>\n",
       "<style scoped>\n",
       "    .dataframe tbody tr th:only-of-type {\n",
       "        vertical-align: middle;\n",
       "    }\n",
       "\n",
       "    .dataframe tbody tr th {\n",
       "        vertical-align: top;\n",
       "    }\n",
       "\n",
       "    .dataframe thead th {\n",
       "        text-align: right;\n",
       "    }\n",
       "</style>\n",
       "<table border=\"1\" class=\"dataframe\">\n",
       "  <thead>\n",
       "    <tr style=\"text-align: right;\">\n",
       "      <th></th>\n",
       "      <th>SITE_ID</th>\n",
       "      <th>SEG_ID</th>\n",
       "      <th>CORP_TXN_ID</th>\n",
       "      <th>VISIT_TYPE_CODE</th>\n",
       "      <th>CATEGORY</th>\n",
       "    </tr>\n",
       "  </thead>\n",
       "  <tbody>\n",
       "    <tr>\n",
       "      <th>0</th>\n",
       "      <td>01058181430017891466</td>\n",
       "      <td>5</td>\n",
       "      <td>9793376735</td>\n",
       "      <td>D</td>\n",
       "      <td>1_InkandToner</td>\n",
       "    </tr>\n",
       "    <tr>\n",
       "      <th>1</th>\n",
       "      <td>00659016580273276800</td>\n",
       "      <td>5</td>\n",
       "      <td>9793257471</td>\n",
       "      <td>D</td>\n",
       "      <td>1_InkandToner</td>\n",
       "    </tr>\n",
       "    <tr>\n",
       "      <th>2</th>\n",
       "      <td>00159929590011709537</td>\n",
       "      <td>5</td>\n",
       "      <td>2331082445</td>\n",
       "      <td>R</td>\n",
       "      <td>1_InkandToner</td>\n",
       "    </tr>\n",
       "    <tr>\n",
       "      <th>3</th>\n",
       "      <td>02831381850020064586</td>\n",
       "      <td>5</td>\n",
       "      <td>9791716338</td>\n",
       "      <td>D</td>\n",
       "      <td>1_InkandToner</td>\n",
       "    </tr>\n",
       "    <tr>\n",
       "      <th>4</th>\n",
       "      <td>01543951640239698933</td>\n",
       "      <td>5</td>\n",
       "      <td>9794898839</td>\n",
       "      <td>D</td>\n",
       "      <td>1_InkandToner</td>\n",
       "    </tr>\n",
       "  </tbody>\n",
       "</table>\n",
       "</div>"
      ],
      "text/plain": [
       "                SITE_ID  SEG_ID  CORP_TXN_ID VISIT_TYPE_CODE       CATEGORY\n",
       "0  01058181430017891466       5   9793376735          D       1_InkandToner\n",
       "1  00659016580273276800       5   9793257471          D       1_InkandToner\n",
       "2  00159929590011709537       5   2331082445          R       1_InkandToner\n",
       "3  02831381850020064586       5   9791716338          D       1_InkandToner\n",
       "4  01543951640239698933       5   9794898839          D       1_InkandToner"
      ]
     },
     "execution_count": 2,
     "metadata": {},
     "output_type": "execute_result"
    }
   ],
   "source": [
    "qry = '''\n",
    "SELECT * FROM PRD_FOL_TMP.OCP_SUPERCAT_YX WHERE CATEGORY LIKE '%INK%'\n",
    "'''\n",
    "df = pd.read_sql(sql = qry,con = conn)\n",
    "df.head()"
   ]
  },
  {
   "cell_type": "code",
   "execution_count": 4,
   "metadata": {},
   "outputs": [
    {
     "data": {
      "text/plain": [
       "SITE_ID               VISIT_TYPE_CODE\n",
       "00000000010000017409  D                  3\n",
       "                      R                  1\n",
       "00000000010000120529  D                  1\n",
       "00000000010000170960  D                  1\n",
       "                      R                  2\n",
       "Name: CORP_TXN_ID, dtype: int64"
      ]
     },
     "execution_count": 4,
     "metadata": {},
     "output_type": "execute_result"
    }
   ],
   "source": [
    "# calculate number of online and retail transactions for each site \n",
    "df.groupby(['SITE_ID','VISIT_TYPE_CODE'])['CORP_TXN_ID'].nunique().head()"
   ]
  },
  {
   "cell_type": "code",
   "execution_count": 6,
   "metadata": {},
   "outputs": [
    {
     "data": {
      "text/html": [
       "<div>\n",
       "<style scoped>\n",
       "    .dataframe tbody tr th:only-of-type {\n",
       "        vertical-align: middle;\n",
       "    }\n",
       "\n",
       "    .dataframe tbody tr th {\n",
       "        vertical-align: top;\n",
       "    }\n",
       "\n",
       "    .dataframe thead th {\n",
       "        text-align: right;\n",
       "    }\n",
       "</style>\n",
       "<table border=\"1\" class=\"dataframe\">\n",
       "  <thead>\n",
       "    <tr style=\"text-align: right;\">\n",
       "      <th>VISIT_TYPE_CODE</th>\n",
       "      <th>D</th>\n",
       "      <th>R</th>\n",
       "      <th>All</th>\n",
       "    </tr>\n",
       "    <tr>\n",
       "      <th>SITE_ID</th>\n",
       "      <th></th>\n",
       "      <th></th>\n",
       "      <th></th>\n",
       "    </tr>\n",
       "  </thead>\n",
       "  <tbody>\n",
       "    <tr>\n",
       "      <th>00000000010000017409</th>\n",
       "      <td>3</td>\n",
       "      <td>1</td>\n",
       "      <td>4</td>\n",
       "    </tr>\n",
       "    <tr>\n",
       "      <th>00000000010000120529</th>\n",
       "      <td>1</td>\n",
       "      <td>0</td>\n",
       "      <td>1</td>\n",
       "    </tr>\n",
       "    <tr>\n",
       "      <th>00000000010000170960</th>\n",
       "      <td>1</td>\n",
       "      <td>2</td>\n",
       "      <td>3</td>\n",
       "    </tr>\n",
       "    <tr>\n",
       "      <th>00000000010000187540</th>\n",
       "      <td>0</td>\n",
       "      <td>2</td>\n",
       "      <td>2</td>\n",
       "    </tr>\n",
       "    <tr>\n",
       "      <th>00000000010000547718</th>\n",
       "      <td>0</td>\n",
       "      <td>16</td>\n",
       "      <td>16</td>\n",
       "    </tr>\n",
       "  </tbody>\n",
       "</table>\n",
       "</div>"
      ],
      "text/plain": [
       "VISIT_TYPE_CODE       D       R       All\n",
       "SITE_ID                                  \n",
       "00000000010000017409       3       1    4\n",
       "00000000010000120529       1       0    1\n",
       "00000000010000170960       1       2    3\n",
       "00000000010000187540       0       2    2\n",
       "00000000010000547718       0      16   16"
      ]
     },
     "execution_count": 6,
     "metadata": {},
     "output_type": "execute_result"
    }
   ],
   "source": [
    "# pivot table\n",
    "df_pivot = df.pivot_table(index = 'SITE_ID', columns = 'VISIT_TYPE_CODE',values = 'CORP_TXN_ID', aggfunc = len,margins = True,fill_value = 0)\n",
    "df_pivot.head()"
   ]
  },
  {
   "cell_type": "code",
   "execution_count": 7,
   "metadata": {},
   "outputs": [
    {
     "data": {
      "text/plain": [
       "pandas.core.frame.DataFrame"
      ]
     },
     "execution_count": 7,
     "metadata": {},
     "output_type": "execute_result"
    }
   ],
   "source": [
    "type(df_pivot)"
   ]
  },
  {
   "cell_type": "code",
   "execution_count": 4,
   "metadata": {},
   "outputs": [
    {
     "data": {
      "text/html": [
       "<div>\n",
       "<style scoped>\n",
       "    .dataframe tbody tr th:only-of-type {\n",
       "        vertical-align: middle;\n",
       "    }\n",
       "\n",
       "    .dataframe tbody tr th {\n",
       "        vertical-align: top;\n",
       "    }\n",
       "\n",
       "    .dataframe thead th {\n",
       "        text-align: right;\n",
       "    }\n",
       "</style>\n",
       "<table border=\"1\" class=\"dataframe\">\n",
       "  <thead>\n",
       "    <tr style=\"text-align: right;\">\n",
       "      <th>VISIT_TYPE_CODE</th>\n",
       "      <th>D</th>\n",
       "      <th>R</th>\n",
       "      <th>All</th>\n",
       "      <th>ratio</th>\n",
       "    </tr>\n",
       "    <tr>\n",
       "      <th>SITE_ID</th>\n",
       "      <th></th>\n",
       "      <th></th>\n",
       "      <th></th>\n",
       "      <th></th>\n",
       "    </tr>\n",
       "  </thead>\n",
       "  <tbody>\n",
       "    <tr>\n",
       "      <th>00000000010000017409</th>\n",
       "      <td>3</td>\n",
       "      <td>1</td>\n",
       "      <td>4</td>\n",
       "      <td>0.750000</td>\n",
       "    </tr>\n",
       "    <tr>\n",
       "      <th>00000000010000120529</th>\n",
       "      <td>1</td>\n",
       "      <td>0</td>\n",
       "      <td>1</td>\n",
       "      <td>1.000000</td>\n",
       "    </tr>\n",
       "    <tr>\n",
       "      <th>00000000010000170960</th>\n",
       "      <td>1</td>\n",
       "      <td>2</td>\n",
       "      <td>3</td>\n",
       "      <td>0.333333</td>\n",
       "    </tr>\n",
       "    <tr>\n",
       "      <th>00000000010000187540</th>\n",
       "      <td>0</td>\n",
       "      <td>2</td>\n",
       "      <td>2</td>\n",
       "      <td>0.000000</td>\n",
       "    </tr>\n",
       "    <tr>\n",
       "      <th>00000000010000547718</th>\n",
       "      <td>0</td>\n",
       "      <td>16</td>\n",
       "      <td>16</td>\n",
       "      <td>0.000000</td>\n",
       "    </tr>\n",
       "  </tbody>\n",
       "</table>\n",
       "</div>"
      ],
      "text/plain": [
       "VISIT_TYPE_CODE       D       R       All     ratio\n",
       "SITE_ID                                            \n",
       "00000000010000017409       3       1    4  0.750000\n",
       "00000000010000120529       1       0    1  1.000000\n",
       "00000000010000170960       1       2    3  0.333333\n",
       "00000000010000187540       0       2    2  0.000000\n",
       "00000000010000547718       0      16   16  0.000000"
      ]
     },
     "execution_count": 4,
     "metadata": {},
     "output_type": "execute_result"
    }
   ],
   "source": [
    "# add column to calculate online/corp order ratio for each site\n",
    "# iloc function to access element or column in pivot table\n",
    "df_pivot['ratio'] = df_pivot.iloc[:,0]/df_pivot.iloc[:,2]\n",
    "df_pivot.head()"
   ]
  },
  {
   "cell_type": "code",
   "execution_count": 7,
   "metadata": {},
   "outputs": [
    {
     "data": {
      "text/plain": [
       "count    278845.000000\n",
       "mean          0.652750\n",
       "std           0.372418\n",
       "min           0.000000\n",
       "25%           0.400000\n",
       "50%           0.750000\n",
       "75%           1.000000\n",
       "max           1.000000\n",
       "Name: ratio, dtype: float64"
      ]
     },
     "execution_count": 7,
     "metadata": {},
     "output_type": "execute_result"
    }
   ],
   "source": [
    "pivo_des = df_pivot['ratio'].describe()\n",
    "# online order ratio mean is 0.65 for ink & toner category\n",
    "pivo_des"
   ]
  },
  {
   "cell_type": "code",
   "execution_count": 9,
   "metadata": {},
   "outputs": [
    {
     "data": {
      "text/plain": [
       "0.75"
      ]
     },
     "execution_count": 9,
     "metadata": {},
     "output_type": "execute_result"
    }
   ],
   "source": [
    "pivo_des['50%']"
   ]
  },
  {
   "cell_type": "code",
   "execution_count": 10,
   "metadata": {},
   "outputs": [],
   "source": [
    "df_pivot.head().to_excel(r'C:\\Users\\Xiayu001\\Desktop\\export_dataframe.xlsx')"
   ]
  },
  {
   "cell_type": "code",
   "execution_count": 10,
   "metadata": {},
   "outputs": [],
   "source": [
    "import sqlalchemy\n",
    "from sqlalchemy import create_engine\n",
    "import sqlalchemy_teradata\n",
    "import pandas as pd\n",
    "\n",
    "# connection info\n",
    "user = 'MKTG_PRDFOCOPLETL'\n",
    "pw = 'staples123'\n",
    "host = 'td-mrk-p-'\n",
    "td_engine = create_engine('teradata://'+ user +':' + pw + '@'+ host + ':22/')\n",
    "\n",
    "# write your DataFrame df to a table called df_test in the sql database\n",
    "df.head().to_sql(\"df_test_1\", td_engine, if_exists = 'replace',schema='PRD_FOL_TMP',index = False)"
   ]
  }
 ],
 "metadata": {
  "kernelspec": {
   "display_name": "Python 3",
   "language": "python",
   "name": "python3"
  },
  "language_info": {
   "codemirror_mode": {
    "name": "ipython",
    "version": 3
   },
   "file_extension": ".py",
   "mimetype": "text/x-python",
   "name": "python",
   "nbconvert_exporter": "python",
   "pygments_lexer": "ipython3",
   "version": "3.7.0"
  }
 },
 "nbformat": 4,
 "nbformat_minor": 2
}
